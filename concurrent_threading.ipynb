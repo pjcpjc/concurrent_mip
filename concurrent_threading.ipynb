{
 "cells": [
  {
   "cell_type": "markdown",
   "metadata": {},
   "source": [
    "Here, we demonstrate how computationally intensive subroutines can escape the [Global Interpreter Lock](https://realpython.com/python-gil/). What ends up happening here is that the computational solve routines run efficiently in parallel, because Python can thread switch while the `gurobipy.Model.optimize` subroutine is running. This is possible because the Gurobi kernel is written in C, and thus the thread switching can happen without violating the GIL.\n",
    "\n",
    "In general, parallelization of computational code can only be achieved with Python by using `multiprocessing`, as a result of the GIL. The exception to that rule is when the performance bottleneck is in non-Python libraries.\n",
    "\n",
    "See `no_concurrency_at_all.ipynb` for a benchmark of what the performance is like without parallelization for these same MIP models. See `concurrent_multiprocessing.ipynb` for the same performance improvement seen here, except using `multiprocessing`."
   ]
  },
  {
   "cell_type": "code",
   "execution_count": 1,
   "metadata": {},
   "outputs": [],
   "source": [
    "import time\n",
    "import cogmodel\n",
    "from ticdat import Progress, LogFile\n",
    "from threading import Thread\n",
    "import os"
   ]
  },
  {
   "cell_type": "markdown",
   "metadata": {},
   "source": [
    "Because this machine has so few cores, the most efficient use of the cores we have is to restrict Gurobi to only use one thread for MIP solve, and to use `threading` to run the MIP solves in parallel. "
   ]
  },
  {
   "cell_type": "code",
   "execution_count": 2,
   "metadata": {},
   "outputs": [
    {
     "name": "stdout",
     "output_type": "stream",
     "text": [
      "4\n"
     ]
    }
   ],
   "source": [
    "print(os.cpu_count()) "
   ]
  },
  {
   "cell_type": "code",
   "execution_count": 3,
   "metadata": {},
   "outputs": [],
   "source": [
    "dat = cogmodel.input_schema.json.create_tic_dat(\"cog_sample_data.json\")\n",
    "dat.parameters[\"Gurobi Threads\"] = 1\n",
    "dat.parameters[\"Gurobi LogToConsole\"] = 0"
   ]
  },
  {
   "cell_type": "code",
   "execution_count": 4,
   "metadata": {},
   "outputs": [],
   "source": [
    "dat_2 = cogmodel.input_schema.copy_tic_dat(dat)\n",
    "dat_2.parameters[\"Number of Centroids\"] = 4"
   ]
  },
  {
   "cell_type": "code",
   "execution_count": 5,
   "metadata": {},
   "outputs": [],
   "source": [
    "dat_3 = cogmodel.input_schema.copy_tic_dat(dat)\n",
    "dat_3.parameters[\"Number of Centroids\"] = 5"
   ]
  },
  {
   "cell_type": "code",
   "execution_count": 6,
   "metadata": {},
   "outputs": [],
   "source": [
    " # feel free to suggest a cleaner way to buffer the inputs/outputs from the threads\n",
    "d_s_bfr = ([dat, None], [dat_2, None], [dat_3, None])"
   ]
  },
  {
   "cell_type": "code",
   "execution_count": 7,
   "metadata": {},
   "outputs": [],
   "source": [
    "def task(id):\n",
    "    sln = cogmodel.solve(d_s_bfr[id][0], LogFile(None), LogFile(None), Progress(quiet=True))\n",
    "    d_s_bfr[id][1] = sln"
   ]
  },
  {
   "cell_type": "code",
   "execution_count": 8,
   "metadata": {},
   "outputs": [],
   "source": [
    "start = time.time()\n",
    "threads = []\n",
    "for i in range(len(d_s_bfr)):\n",
    "    t = Thread(target=task, args=(i,))\n",
    "    threads.append(t)\n",
    "    t.start()"
   ]
  },
  {
   "cell_type": "code",
   "execution_count": 9,
   "metadata": {},
   "outputs": [
    {
     "name": "stdout",
     "output_type": "stream",
     "text": [
      "Using license file /Users/petercacioppi/gurobi.lic\n",
      "Using license file /Users/petercacioppi/gurobi.lic\n",
      "Using license file /Users/petercacioppi/gurobi.lic\n",
      "Changed value of parameter Threads to 1\n",
      "Changed value of parameter Threads to 1\n",
      "Changed value of parameter Threads to 1\n",
      "   Prev: 0  Min: 0  Max: 1024  Default: 0\n",
      "   Prev: 0  Min: 0  Max: 1024  Default: 0\n",
      "   Prev: 0  Min: 0  Max: 1024  Default: 0\n"
     ]
    }
   ],
   "source": [
    "for t in threads:\n",
    "    t.join()"
   ]
  },
  {
   "cell_type": "code",
   "execution_count": 10,
   "metadata": {},
   "outputs": [
    {
     "name": "stdout",
     "output_type": "stream",
     "text": [
      "\n",
      "\n",
      "****\n",
      "Required 37.50310301780701 seconds in total\n"
     ]
    }
   ],
   "source": [
    "print(f\"\\n\\n****\\nRequired {time.time() - start} seconds in total\")"
   ]
  },
  {
   "cell_type": "code",
   "execution_count": 11,
   "metadata": {},
   "outputs": [],
   "source": [
    "for d, s in d_s_bfr:\n",
    "    assert d.parameters[\"Number of Centroids\"][\"Value\"] == len(s.openings)"
   ]
  }
 ],
 "metadata": {
  "kernelspec": {
   "display_name": "Python 3",
   "language": "python",
   "name": "python3"
  },
  "language_info": {
   "codemirror_mode": {
    "name": "ipython",
    "version": 3
   },
   "file_extension": ".py",
   "mimetype": "text/x-python",
   "name": "python",
   "nbconvert_exporter": "python",
   "pygments_lexer": "ipython3",
   "version": "3.7.0"
  }
 },
 "nbformat": 4,
 "nbformat_minor": 2
}

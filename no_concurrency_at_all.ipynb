{
 "cells": [
  {
   "cell_type": "markdown",
   "metadata": {},
   "source": [
    "This is a benchmark perforamnce result for solving 3 similar, time intensive, MIP models in parallel. Note that we deliberately are using a weak formulation for these MIPs in order to get slower performance. This same weak formulation will also be used when we achieve higher performance by parallelizing with `threading` (with `concurrent_threading.ipynb`) and `multiprocessing` (with `concurrent_multiprocessing.ipynb`). "
   ]
  },
  {
   "cell_type": "code",
   "execution_count": 1,
   "metadata": {},
   "outputs": [],
   "source": [
    "import time\n",
    "import cogmodel\n",
    "from ticdat import Progress, LogFile"
   ]
  },
  {
   "cell_type": "code",
   "execution_count": 2,
   "metadata": {},
   "outputs": [
    {
     "data": {
      "text/plain": [
       "{'Number of Centroids': _td:{'Value': 3},\n",
       " 'Formulation': _td:{'Value': 'Weak'},\n",
       " 'Gurobi LogToConsole': _td:{'Value': 0}}"
      ]
     },
     "execution_count": 2,
     "metadata": {},
     "output_type": "execute_result"
    }
   ],
   "source": [
    "dat = cogmodel.input_schema.json.create_tic_dat(\"cog_sample_data.json\")\n",
    "dat.parameters[\"Gurobi LogToConsole\"] = 0\n",
    "dat.parameters"
   ]
  },
  {
   "cell_type": "code",
   "execution_count": 3,
   "metadata": {},
   "outputs": [],
   "source": [
    "dat_2 = cogmodel.input_schema.copy_tic_dat(dat)"
   ]
  },
  {
   "cell_type": "code",
   "execution_count": 4,
   "metadata": {},
   "outputs": [],
   "source": [
    "dat_2.parameters[\"Number of Centroids\"] = 4"
   ]
  },
  {
   "cell_type": "code",
   "execution_count": 5,
   "metadata": {},
   "outputs": [],
   "source": [
    "dat_3 = cogmodel.input_schema.copy_tic_dat(dat)"
   ]
  },
  {
   "cell_type": "code",
   "execution_count": 6,
   "metadata": {},
   "outputs": [],
   "source": [
    "dat_3.parameters[\"Number of Centroids\"] = 5"
   ]
  },
  {
   "cell_type": "code",
   "execution_count": 7,
   "metadata": {},
   "outputs": [
    {
     "name": "stdout",
     "output_type": "stream",
     "text": [
      "Using license file /Users/petercacioppi/gurobi.lic\n",
      "Using license file /Users/petercacioppi/gurobi.lic\n",
      "Using license file /Users/petercacioppi/gurobi.lic\n"
     ]
    }
   ],
   "source": [
    "start = time.time()\n",
    "sln = cogmodel.solve(dat, LogFile(None), LogFile(None), Progress(quiet=True))\n",
    "sln_2 = cogmodel.solve(dat_2, LogFile(None), LogFile(None), Progress(quiet=True))\n",
    "sln_3 = cogmodel.solve(dat_3, LogFile(None), LogFile(None), Progress(quiet=True))\n",
    "assert len(sln.openings) == 3\n",
    "assert len(sln_2.openings) == 4\n",
    "assert len(sln_3.openings) == 5"
   ]
  },
  {
   "cell_type": "code",
   "execution_count": 8,
   "metadata": {},
   "outputs": [
    {
     "name": "stdout",
     "output_type": "stream",
     "text": [
      "\n",
      "\n",
      "****\n",
      "Required 78.81996488571167 seconds in total\n"
     ]
    }
   ],
   "source": [
    "print(f\"\\n\\n****\\nRequired {time.time() - start} seconds in total\")"
   ]
  }
 ],
 "metadata": {
  "kernelspec": {
   "display_name": "Python 3",
   "language": "python",
   "name": "python3"
  },
  "language_info": {
   "codemirror_mode": {
    "name": "ipython",
    "version": 3
   },
   "file_extension": ".py",
   "mimetype": "text/x-python",
   "name": "python",
   "nbconvert_exporter": "python",
   "pygments_lexer": "ipython3",
   "version": "3.7.0"
  }
 },
 "nbformat": 4,
 "nbformat_minor": 2
}

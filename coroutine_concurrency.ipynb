{
 "cells": [
  {
   "cell_type": "markdown",
   "metadata": {},
   "source": [
    "[Here](https://realpython.com/async-io-python/) is a nice resoure on concurrency."
   ]
  },
  {
   "cell_type": "code",
   "execution_count": 1,
   "metadata": {},
   "outputs": [],
   "source": [
    "import time\n",
    "import cogmodel\n",
    "import asyncio\n",
    "from ticdat import Progress, LogFile"
   ]
  },
  {
   "cell_type": "code",
   "execution_count": 2,
   "metadata": {},
   "outputs": [
    {
     "data": {
      "text/plain": [
       "{'Number of Centroids': _td:{'Value': 3}, 'Formulation': _td:{'Value': 'Weak'}}"
      ]
     },
     "execution_count": 2,
     "metadata": {},
     "output_type": "execute_result"
    }
   ],
   "source": [
    "dat = cogmodel.input_schema.json.create_tic_dat(\"cog_sample_data.json\")\n",
    "dat.parameters"
   ]
  },
  {
   "cell_type": "code",
   "execution_count": 3,
   "metadata": {},
   "outputs": [],
   "source": [
    "dat_2 = cogmodel.input_schema.copy_tic_dat(dat)\n",
    "dat_2.parameters[\"Number of Centroids\"] = 4\n",
    "dat_3 = cogmodel.input_schema.copy_tic_dat(dat)\n",
    "dat_3.parameters[\"Number of Centroids\"] = 5"
   ]
  },
  {
   "cell_type": "code",
   "execution_count": 4,
   "metadata": {},
   "outputs": [],
   "source": [
    "# there is likely a cleaner way to handle capturing the solution -  feel free to suggest one\n",
    "sln_bfr = {} \n",
    "def solve_to_bfr(dat_):\n",
    "    sln = cogmodel.solve(dat_, LogFile(None), LogFile(None), Progress())\n",
    "    if sln:\n",
    "        sln_bfr[len(sln.openings)] = sln"
   ]
  },
  {
   "cell_type": "code",
   "execution_count": 5,
   "metadata": {},
   "outputs": [],
   "source": [
    "async def solve(dat_):\n",
    "    solve_to_bfr(dat_)\n",
    "        \n",
    "async def main():\n",
    "    await asyncio.gather(solve(dat), solve(dat_2), solve(dat_3))"
   ]
  },
  {
   "cell_type": "code",
   "execution_count": 6,
   "metadata": {},
   "outputs": [
    {
     "ename": "SyntaxError",
     "evalue": "'await' outside function (<ipython-input-6-75c81f364589>, line 3)",
     "output_type": "error",
     "traceback": [
      "\u001b[0;36m  File \u001b[0;32m\"<ipython-input-6-75c81f364589>\"\u001b[0;36m, line \u001b[0;32m3\u001b[0m\n\u001b[0;31m    await main() # use this because Jupyter already has an event loop\u001b[0m\n\u001b[0m                                                                     ^\u001b[0m\n\u001b[0;31mSyntaxError\u001b[0m\u001b[0;31m:\u001b[0m 'await' outside function\n"
     ]
    }
   ],
   "source": [
    "start = time.time()\n",
    "# asyncio.run(main()) # use this outside of Jupyter\n",
    "await main() # use this because Jupyter already has an event loop\n",
    "assert set(sln_bfr) == {3, 4, 5}"
   ]
  },
  {
   "cell_type": "code",
   "execution_count": null,
   "metadata": {},
   "outputs": [],
   "source": [
    "print(f\"\\n\\n****\\nRequired {time.time() - start} seconds in total\")"
   ]
  }
 ],
 "metadata": {
  "kernelspec": {
   "display_name": "Python 3",
   "language": "python",
   "name": "python3"
  },
  "language_info": {
   "codemirror_mode": {
    "name": "ipython",
    "version": 3
   },
   "file_extension": ".py",
   "mimetype": "text/x-python",
   "name": "python",
   "nbconvert_exporter": "python",
   "pygments_lexer": "ipython3",
   "version": "3.7.0"
  }
 },
 "nbformat": 4,
 "nbformat_minor": 2
}
